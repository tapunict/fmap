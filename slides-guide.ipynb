{
 "cells": [
  {
   "cell_type": "markdown",
   "id": "9211c334",
   "metadata": {
    "slideshow": {
     "slide_type": "slide"
    }
   },
   "source": [
    "<h1>fmap (Frequence Mapper)</h1><br>"
   ]
  },
  {
   "cell_type": "markdown",
   "id": "87453b56",
   "metadata": {
    "slideshow": {
     "slide_type": "fragment"
    }
   },
   "source": [
    "<img align=\"right\" src=\"docs/assets/cover.png\" style=\"width: 70%; left:30px\">"
   ]
  },
  {
   "cell_type": "markdown",
   "id": "1823b4c7",
   "metadata": {
    "slideshow": {
     "slide_type": "slide"
    }
   },
   "source": [
    "<p align=\"center\">(🇮🇹) Monitora la qualità della ricezione dei segnali radio nelle province siciliane. </p>\n",
    "<p align=\"center\">(🇺🇸) Monitors the quality of radio signal reception in the Sicilian provinces. </p>"
   ]
  },
  {
   "cell_type": "markdown",
   "id": "fcc1832c",
   "metadata": {
    "slideshow": {
     "slide_type": "slide"
    }
   },
   "source": []
  }
 ],
 "metadata": {
  "celltoolbar": "Slideshow",
  "kernelspec": {
   "display_name": "Python 3",
   "language": "python",
   "name": "python3"
  },
  "language_info": {
   "codemirror_mode": {
    "name": "ipython",
    "version": 3
   },
   "file_extension": ".py",
   "mimetype": "text/x-python",
   "name": "python",
   "nbconvert_exporter": "python",
   "pygments_lexer": "ipython3",
   "version": "3.8.6"
  }
 },
 "nbformat": 4,
 "nbformat_minor": 5
}
